{
 "cells": [
  {
   "cell_type": "code",
   "execution_count": 1,
   "metadata": {},
   "outputs": [
    {
     "name": "stderr",
     "output_type": "stream",
     "text": [
      "/Users/barryweiss/.pyenv/versions/3.11.8/envs/yumi-py3.11.8/lib/python3.11/site-packages/tqdm/auto.py:21: TqdmWarning: IProgress not found. Please update jupyter and ipywidgets. See https://ipywidgets.readthedocs.io/en/stable/user_install.html\n",
      "  from .autonotebook import tqdm as notebook_tqdm\n"
     ]
    },
    {
     "data": {
      "text/plain": [
       "True"
      ]
     },
     "execution_count": 1,
     "metadata": {},
     "output_type": "execute_result"
    }
   ],
   "source": [
    "import os\n",
    "from typing import Any, Dict\n",
    "\n",
    "import tiktoken\n",
    "from dotenv import load_dotenv\n",
    "from langchain.schema.output_parser import StrOutputParser\n",
    "from langchain_community.chat_message_histories import ChatMessageHistory\n",
    "from langchain_core.chat_history import (\n",
    "    BaseChatMessageHistory,\n",
    "    InMemoryChatMessageHistory,\n",
    ")\n",
    "from langchain_core.globals import set_debug\n",
    "from langchain_core.prompts import ChatPromptTemplate, MessagesPlaceholder\n",
    "from langchain_core.runnables import (\n",
    "    RunnableLambda,\n",
    "    RunnablePassthrough,\n",
    "    RunnableSerializable,\n",
    ")\n",
    "from langchain_core.runnables.history import RunnableWithMessageHistory\n",
    "from langchain_google_genai import ChatGoogleGenerativeAI\n",
    "from langchain_mistralai import ChatMistralAI\n",
    "from langchain_openai import ChatOpenAI\n",
    "from langchain_core.messages import SystemMessage\n",
    "\n",
    "from prompts.gen_prompts import GENERAL_PROMPT, RAG_PROMPT\n",
    "from rag_pinecone import basic_retriever\n",
    "\n",
    "set_debug(True)\n",
    "load_dotenv()"
   ]
  },
  {
   "cell_type": "code",
   "execution_count": 2,
   "metadata": {},
   "outputs": [],
   "source": [
    "google_api_key = os.getenv(\"GOOGLE_API_KEY\")\n",
    "openai_api_key = os.getenv(\"OPENAI_API_KEY\")\n",
    "mistralai_api_key = os.getenv(\"MISTRALAI_API_KEY\")"
   ]
  },
  {
   "cell_type": "code",
   "execution_count": 3,
   "metadata": {},
   "outputs": [],
   "source": [
    "memory_store = {}\n",
    "\n",
    "gemini_llm = ChatGoogleGenerativeAI(\n",
    "    google_api_key=f\"{google_api_key}\",\n",
    "    model=\"gemini-pro\",\n",
    ")  # Type: Ignore\n",
    "mistral_llm = ChatMistralAI(model=\"mistral-large-latest\")\n",
    "openai_llm = ChatOpenAI(openai_api_key=openai_api_key, model=\"gpt-4o\")"
   ]
  },
  {
   "cell_type": "code",
   "execution_count": 4,
   "metadata": {},
   "outputs": [],
   "source": [
    "def summarize_memory(\n",
    "    stored_session: InMemoryChatMessageHistory,\n",
    ") -> InMemoryChatMessageHistory:\n",
    "    summarization_prompt = ChatPromptTemplate.from_messages(\n",
    "        [\n",
    "            MessagesPlaceholder(variable_name=\"history\"),\n",
    "            (\n",
    "                \"user\",\n",
    "                \"The mesages above are from an AI/Human chat session. You need to distill the above chat messages into a single summary message. Include as many specific details as you can. But be sure that it is done in a way that is concise and easy to understand as it will be used to summarize the chat history and used as reference later by the AI\",\n",
    "            ),\n",
    "        ]\n",
    "    )\n",
    "    summarization_chain = (summarization_prompt | gemini_llm).with_config(\n",
    "        config={\"run_name\": \"sumarize_memory\"}\n",
    "    )\n",
    "    summary_message = summarization_chain.invoke({\"history\": stored_session.messages})\n",
    "    stored_session.clear()\n",
    "    stored_session.add_message(summary_message)\n",
    "    return stored_session"
   ]
  },
  {
   "cell_type": "code",
   "execution_count": 5,
   "metadata": {},
   "outputs": [],
   "source": [
    "def check_memory_token_size(messages: BaseChatMessageHistory) -> bool:\n",
    "    encoding = tiktoken.get_encoding(\"cl100k_base\")\n",
    "    count = []\n",
    "    for message in messages:\n",
    "        token_count = len(encoding.encode(message.content))\n",
    "        count.append(token_count)\n",
    "    total_tokens = sum(count)\n",
    "    if total_tokens > 100:\n",
    "        return True\n",
    "    else:\n",
    "        return False\n",
    "\n",
    "\n",
    "def get_session_history(session_id: str) -> BaseChatMessageHistory:\n",
    "    if session_id not in memory_store:\n",
    "        memory_store[session_id] = ChatMessageHistory()\n",
    "        return memory_store[session_id]\n",
    "    stored_session: InMemoryChatMessageHistory = memory_store[session_id]\n",
    "    if len(stored_session.messages) > 6:\n",
    "        if check_memory_token_size(stored_session.messages):\n",
    "            return summarize_memory(stored_session)\n",
    "    return stored_session"
   ]
  },
  {
   "cell_type": "code",
   "execution_count": 16,
   "metadata": {},
   "outputs": [
    {
     "name": "stdout",
     "output_type": "stream",
     "text": [
      "\u001b[32;1m\u001b[1;3m[chain/start]\u001b[0m \u001b[1m[chain:sumarize_memory] Entering Chain run with input:\n",
      "\u001b[0m[inputs]\n",
      "\u001b[32;1m\u001b[1;3m[chain/start]\u001b[0m \u001b[1m[chain:sumarize_memory > prompt:ChatPromptTemplate] Entering Prompt run with input:\n",
      "\u001b[0m[inputs]\n",
      "\u001b[36;1m\u001b[1;3m[chain/end]\u001b[0m \u001b[1m[chain:sumarize_memory > prompt:ChatPromptTemplate] [1ms] Exiting Prompt run with output:\n",
      "\u001b[0m[outputs]\n",
      "\u001b[32;1m\u001b[1;3m[llm/start]\u001b[0m \u001b[1m[chain:sumarize_memory > llm:ChatGoogleGenerativeAI] Entering LLM run with input:\n",
      "\u001b[0m{\n",
      "  \"prompts\": [\n",
      "    \"AI: **Summary of Chat Session**\\n\\nThe chat focused on two locations:\\n\\n**Sarasota, Florida:**\\n\\n* Beautiful city on the southwestern coast of Florida\\n* Known for its stunning beaches, especially Siesta Key Beach with white, powdery sand\\n* Rich arts community with attractions like the Ringling Museum of Art, Sarasota Opera, and Sarasota Ballet\\n* Offers nature and outdoor activities like the Marie Selby Botanical Gardens and Myakka River State Park\\n* Has a vibrant dining and shopping scene, including St. Armands Circle\\n\\n**Chicago, Illinois:**\\n\\n* Located on the shores of Lake Michigan\\n* Famous for its impressive skyline and architecture, including the Willis Tower and Wrigley Building\\n* Houses world-class museums such as the Art Institute of Chicago, Museum of Science and Industry, and Field Museum\\n* Has a thriving music and theater scene, with renowned institutions like the Chicago Symphony Orchestra and Second City comedy club\\n* Known for its culinary scene, including deep-dish pizza, Chicago-style hot dogs, and Italian beef sandwiches\\n* Home to major sports teams like the Chicago Cubs, White Sox, Bears, Bulls, and Blackhawks\\n* Offers green spaces like Millennium Park with the iconic Cloud Gate sculpture and Grant Park\\n* Provides excellent shopping on the Magnificent Mile\\n* Hosts prestigious universities like the University of Chicago and Northwestern University\\nHuman: Please tell me about Kansas City, MO.\\nAI: Of course! Kansas City, Missouri, is a vibrant and culturally rich city located in the heart of the United States. Here are some highlights about Kansas City:\\n\\n### **Culture and Arts**\\n- **Jazz and Blues:** Kansas City has a deep-rooted history in jazz and blues music. The 18th & Vine Historic Jazz District is a must-visit for music lovers, featuring the American Jazz Museum and the Negro Leagues Baseball Museum.\\n- **Museums and Galleries:** The Nelson-Atkins Museum of Art is renowned for its extensive collection and beautiful sculpture garden. The Kemper Museum of Contemporary Art is also a great spot for modern art enthusiasts.\\n\\n### **Food and Drink**\\n- **Barbecue:** Kansas City is famous for its barbecue. Places like Joe's Kansas City Bar-B-Que, Arthur Bryant's, and Gates Bar-B-Q are legendary for their delicious smoked meats and tangy sauces.\\n- **Breweries:** The city boasts a growing craft beer scene with numerous local breweries such as Boulevard Brewing Company, one of the largest specialty brewers in the Midwest.\\n\\n### **Sports**\\n- **Football:** The Kansas City Chiefs are the city's pride when it comes to NFL football. Arrowhead Stadium is known for its electric atmosphere.\\n- **Baseball:** The Kansas City Royals are the city's Major League Baseball team, with games held at Kauffman Stadium, known for its iconic fountains.\\n\\n### **Outdoor Activities**\\n- **Parks and Trails:** Kansas City offers numerous parks and outdoor spaces. The city is home to Swope Park, one of the largest urban parks in the United States, which includes the Kansas City Zoo and Starlight Theatre.\\n- **Fountains:** Known as the \\\"City of Fountains,\\\" Kansas City has more than 200 fountains scattered throughout the city, adding to its charm.\\n\\n### **History**\\n- **Westport and River Market:** These neighborhoods are rich in history and offer a mix of historical sites, trendy shops, and excellent dining options.\\n- **National World War I Museum and Memorial:** This museum provides a comprehensive look at World War I and is a significant historical landmark in the city.\\n\\n### **Shopping and Entertainment**\\n- **Country Club Plaza:** An upscale shopping district known for its Spanish-inspired architecture, high-end retailers, and dining options.\\n- **Power and Light District:** A lively area in downtown Kansas City with a variety of bars, restaurants, and live entertainment venues.\\n\\nKansas City, MO, is a city with a rich cultural heritage, a strong sense of community, and plenty of activities to suit all interests. Whether you're a foodie, sports fan, history buff, or art lover, there's something for everyone in this dynamic city!\\nHuman: Please tell me about Salt Lake City.\\nAI: Absolutely! Salt Lake City, the capital of Utah, is a city rich in natural beauty, history, and culture. Here are some highlights about Salt Lake City:\\n\\n### **Natural Beauty and Outdoors**\\n- **Great Salt Lake:** The city is named after the nearby Great Salt Lake, the largest saltwater lake in the Western Hemisphere. It's a unique place for activities like bird watching, sailing, and hiking.\\n- **Mountains and Skiing:** Nestled in the Wasatch Mountains, Salt Lake City is a haven for outdoor enthusiasts. It's close to world-class ski resorts like Park City, Alta, and Snowbird, making it a top destination for winter sports.\\n- **Hiking and Biking:** In the warmer months, the mountains offer amazing trails for hiking and mountain biking. Places like Big Cottonwood Canyon and Mill Creek Canyon are popular spots.\\n\\n### **Cultural and Historical Sites**\\n- **Temple Square:** This is the headquarters of The Church of Jesus Christ of Latter-day Saints (LDS Church). The square features the Salt Lake Temple, the Tabernacle, and the Assembly Hall, along with beautiful gardens and visitor centers.\\n- **Utah State Capitol:** This beautiful building offers stunning views of the city and the Wasatch Range. You can take a guided tour to learn about Utah's history and government.\\n- **Museums:** The Natural History Museum of Utah and the Utah Museum of Fine Arts are great places to explore the region's natural and artistic heritage.\\n\\n### **Arts and Entertainment**\\n- **Performing Arts:** Salt Lake City has a vibrant arts scene, with venues like the Eccles Theater hosting Broadway shows, concerts, and other performances. The Utah Symphony and Opera also offer fantastic cultural experiences.\\n- **Festivals:** The city hosts various festivals throughout the year, including the Utah Arts Festival, the Sundance Film Festival (nearby in Park City), and the Living Traditions Festival celebrating cultural diversity.\\n\\n### **Family-Friendly Activities**\\n- **Hogle Zoo:** A popular attraction for families, featuring a wide variety of animals and interactive exhibits.\\n- **Tracy Aviary:** Located in Liberty Park, this aviary is home to hundreds of bird species and offers educational programs for all ages.\\n- **Discovery Gateway Children's Museum:** A hands-on museum that provides interactive exhibits and activities for children.\\n\\n### **Sports**\\n- **Basketball:** The Utah Jazz, an NBA team, play their home games at the Vivint Arena, which also hosts concerts and other events.\\n- **Soccer:** Real Salt Lake, the city's Major League Soccer team, plays at Rio Tinto Stadium in nearby Sandy.\\n\\n### **Dining and Shopping**\\n- **Eclectic Food Scene:** Salt Lake City offers a diverse culinary scene, with everything from farm-to-table eateries to international cuisine. Don't miss trying some local favorites like fry sauce or visiting the Red Iguana for amazing Mexican food.\\n- **Shopping Districts:** City Creek Center, Trolley Square, and The Gateway are popular shopping areas that offer a mix of retail, dining, and entertainment options.\\n\\n### **Education and Innovation**\\n- **Universities:** The University of Utah is a major research institution located in the city, contributing to its vibrant academic and tech communities.\\n- **Tech Hub:** Salt Lake City is part of the \\\"Silicon Slopes,\\\" a rapidly growing tech corridor that’s attracting startups and established tech companies alike.\\n\\nSalt Lake City is a dynamic place that offers a mix of urban amenities and natural beauty. Whether you're into outdoor adventures, cultural experiences, or simply exploring new places, Salt Lake City has something to offer everyone!\\nHuman: The mesages above are from an AI/Human chat session. You need to distill the above chat messages into a single summary message. Include as many specific details as you can. But be sure that it is done in a way that is concise and easy to understand as it will be used to summarize the chat history and used as reference later by the AI\"\n",
      "  ]\n",
      "}\n",
      "\u001b[36;1m\u001b[1;3m[llm/end]\u001b[0m \u001b[1m[chain:sumarize_memory > llm:ChatGoogleGenerativeAI] [10.60s] Exiting LLM run with output:\n",
      "\u001b[0m{\n",
      "  \"generations\": [\n",
      "    [\n",
      "      {\n",
      "        \"text\": \"**Summary of Chat Session**\\n\\nThe chat focused on three locations:\\n\\n**Sarasota, Florida**\\n\\n* Beautiful city on the southwestern coast of Florida\\n* Known for its stunning beaches, especially Siesta Key Beach with white, powdery sand\\n* Rich arts community with attractions like the Ringling Museum of Art, Sarasota Opera, and Sarasota Ballet\\n* Offers nature and outdoor activities like the Marie Selby Botanical Gardens and Myakka River State Park\\n* Has a vibrant dining and shopping scene, including St. Armands Circle\\n\\n**Chicago, Illinois**\\n\\n* Located on the shores of Lake Michigan\\n* Famous for its impressive skyline and architecture, including the Willis Tower and Wrigley Building\\n* Houses world-class museums such as the Art Institute of Chicago, Museum of Science and Industry, and Field Museum\\n* Has a thriving music and theater scene, with renowned institutions like the Chicago Symphony Orchestra and Second City comedy club\\n* Known for its culinary scene, including deep-dish pizza, Chicago-style hot dogs, and Italian beef sandwiches\\n* Home to major sports teams like the Chicago Cubs, White Sox, Bears, Bulls, and Blackhawks\\n* Offers green spaces like Millennium Park with the iconic Cloud Gate sculpture and Grant Park\\n* Provides excellent shopping on the Magnificent Mile\\n* Hosts prestigious universities like the University of Chicago and Northwestern University\\n\\n**Kansas City, Missouri**\\n\\n* Located in the heart of the United States\\n* Known for its jazz and blues music, with the 18th & Vine Historic Jazz District being a must-visit\\n* Offers cultural attractions like the Nelson-Atkins Museum of Art and the Kemper Museum of Contemporary Art\\n* Famous for its barbecue, with renowned places like Joe's Kansas City Bar-B-Que and Arthur Bryant's\\n* Home to the Kansas City Chiefs (NFL) and Kansas City Royals (MLB)\\n* Provides outdoor activities in parks like Swope Park and the Kansas City Zoo\\n* Has a vibrant shopping and entertainment scene, including Country Club Plaza and the Power & Light District\\n\\n**Salt Lake City, Utah**\\n\\n* Capital of Utah, nestled in the Wasatch Mountains\\n* Named after the nearby Great Salt Lake, offering unique activities like bird watching and sailing\\n* Close to world-class ski resorts like Park City, Alta, and Snowbird\\n* Home to Temple Square, the headquarters of the LDS Church, with stunning architecture and historical significance\\n* Offers cultural experiences like the Utah State Capitol, the Natural History Museum of Utah, and the Utah Museum of Fine Arts\\n* Has a vibrant arts scene with venues like the Eccles Theater and the Utah Symphony\\n* Provides family-friendly attractions such as Hogle Zoo, Tracy Aviary, and Discovery Gateway Children's Museum\\n* Home to the Utah Jazz (NBA) and Real Salt Lake (MLS)\\n* Offers a diverse culinary scene and shopping districts like City Creek Center and The Gateway\\n* Is part of the \\\"Silicon Slopes,\\\" a growing tech corridor attracting startups and established companies\\n* Houses the University of Utah, a major research institution contributing to its academic and tech communities\\n\\nThis summary provides a concise overview of the key highlights discussed in the chat session for each location, including specific attractions, cultural offerings, outdoor activities, dining scenes, shopping options, and notable landmarks.\",\n",
      "        \"generation_info\": {\n",
      "          \"finish_reason\": \"STOP\",\n",
      "          \"safety_ratings\": [\n",
      "            {\n",
      "              \"category\": \"HARM_CATEGORY_SEXUALLY_EXPLICIT\",\n",
      "              \"probability\": \"NEGLIGIBLE\",\n",
      "              \"blocked\": false\n",
      "            },\n",
      "            {\n",
      "              \"category\": \"HARM_CATEGORY_HATE_SPEECH\",\n",
      "              \"probability\": \"NEGLIGIBLE\",\n",
      "              \"blocked\": false\n",
      "            },\n",
      "            {\n",
      "              \"category\": \"HARM_CATEGORY_HARASSMENT\",\n",
      "              \"probability\": \"NEGLIGIBLE\",\n",
      "              \"blocked\": false\n",
      "            },\n",
      "            {\n",
      "              \"category\": \"HARM_CATEGORY_DANGEROUS_CONTENT\",\n",
      "              \"probability\": \"NEGLIGIBLE\",\n",
      "              \"blocked\": false\n",
      "            }\n",
      "          ]\n",
      "        },\n",
      "        \"type\": \"ChatGeneration\",\n",
      "        \"message\": {\n",
      "          \"lc\": 1,\n",
      "          \"type\": \"constructor\",\n",
      "          \"id\": [\n",
      "            \"langchain\",\n",
      "            \"schema\",\n",
      "            \"messages\",\n",
      "            \"AIMessage\"\n",
      "          ],\n",
      "          \"kwargs\": {\n",
      "            \"content\": \"**Summary of Chat Session**\\n\\nThe chat focused on three locations:\\n\\n**Sarasota, Florida**\\n\\n* Beautiful city on the southwestern coast of Florida\\n* Known for its stunning beaches, especially Siesta Key Beach with white, powdery sand\\n* Rich arts community with attractions like the Ringling Museum of Art, Sarasota Opera, and Sarasota Ballet\\n* Offers nature and outdoor activities like the Marie Selby Botanical Gardens and Myakka River State Park\\n* Has a vibrant dining and shopping scene, including St. Armands Circle\\n\\n**Chicago, Illinois**\\n\\n* Located on the shores of Lake Michigan\\n* Famous for its impressive skyline and architecture, including the Willis Tower and Wrigley Building\\n* Houses world-class museums such as the Art Institute of Chicago, Museum of Science and Industry, and Field Museum\\n* Has a thriving music and theater scene, with renowned institutions like the Chicago Symphony Orchestra and Second City comedy club\\n* Known for its culinary scene, including deep-dish pizza, Chicago-style hot dogs, and Italian beef sandwiches\\n* Home to major sports teams like the Chicago Cubs, White Sox, Bears, Bulls, and Blackhawks\\n* Offers green spaces like Millennium Park with the iconic Cloud Gate sculpture and Grant Park\\n* Provides excellent shopping on the Magnificent Mile\\n* Hosts prestigious universities like the University of Chicago and Northwestern University\\n\\n**Kansas City, Missouri**\\n\\n* Located in the heart of the United States\\n* Known for its jazz and blues music, with the 18th & Vine Historic Jazz District being a must-visit\\n* Offers cultural attractions like the Nelson-Atkins Museum of Art and the Kemper Museum of Contemporary Art\\n* Famous for its barbecue, with renowned places like Joe's Kansas City Bar-B-Que and Arthur Bryant's\\n* Home to the Kansas City Chiefs (NFL) and Kansas City Royals (MLB)\\n* Provides outdoor activities in parks like Swope Park and the Kansas City Zoo\\n* Has a vibrant shopping and entertainment scene, including Country Club Plaza and the Power & Light District\\n\\n**Salt Lake City, Utah**\\n\\n* Capital of Utah, nestled in the Wasatch Mountains\\n* Named after the nearby Great Salt Lake, offering unique activities like bird watching and sailing\\n* Close to world-class ski resorts like Park City, Alta, and Snowbird\\n* Home to Temple Square, the headquarters of the LDS Church, with stunning architecture and historical significance\\n* Offers cultural experiences like the Utah State Capitol, the Natural History Museum of Utah, and the Utah Museum of Fine Arts\\n* Has a vibrant arts scene with venues like the Eccles Theater and the Utah Symphony\\n* Provides family-friendly attractions such as Hogle Zoo, Tracy Aviary, and Discovery Gateway Children's Museum\\n* Home to the Utah Jazz (NBA) and Real Salt Lake (MLS)\\n* Offers a diverse culinary scene and shopping districts like City Creek Center and The Gateway\\n* Is part of the \\\"Silicon Slopes,\\\" a growing tech corridor attracting startups and established companies\\n* Houses the University of Utah, a major research institution contributing to its academic and tech communities\\n\\nThis summary provides a concise overview of the key highlights discussed in the chat session for each location, including specific attractions, cultural offerings, outdoor activities, dining scenes, shopping options, and notable landmarks.\",\n",
      "            \"response_metadata\": {\n",
      "              \"prompt_feedback\": {\n",
      "                \"block_reason\": 0,\n",
      "                \"safety_ratings\": []\n",
      "              },\n",
      "              \"finish_reason\": \"STOP\",\n",
      "              \"safety_ratings\": [\n",
      "                {\n",
      "                  \"category\": \"HARM_CATEGORY_SEXUALLY_EXPLICIT\",\n",
      "                  \"probability\": \"NEGLIGIBLE\",\n",
      "                  \"blocked\": false\n",
      "                },\n",
      "                {\n",
      "                  \"category\": \"HARM_CATEGORY_HATE_SPEECH\",\n",
      "                  \"probability\": \"NEGLIGIBLE\",\n",
      "                  \"blocked\": false\n",
      "                },\n",
      "                {\n",
      "                  \"category\": \"HARM_CATEGORY_HARASSMENT\",\n",
      "                  \"probability\": \"NEGLIGIBLE\",\n",
      "                  \"blocked\": false\n",
      "                },\n",
      "                {\n",
      "                  \"category\": \"HARM_CATEGORY_DANGEROUS_CONTENT\",\n",
      "                  \"probability\": \"NEGLIGIBLE\",\n",
      "                  \"blocked\": false\n",
      "                }\n",
      "              ]\n",
      "            },\n",
      "            \"type\": \"ai\",\n",
      "            \"id\": \"run-be00ff0f-6e01-4818-8732-a46d4b4aca83-0\",\n",
      "            \"tool_calls\": [],\n",
      "            \"invalid_tool_calls\": []\n",
      "          }\n",
      "        }\n",
      "      }\n",
      "    ]\n",
      "  ],\n",
      "  \"llm_output\": {\n",
      "    \"prompt_feedback\": {\n",
      "      \"block_reason\": 0,\n",
      "      \"safety_ratings\": []\n",
      "    }\n",
      "  },\n",
      "  \"run\": null\n",
      "}\n",
      "\u001b[36;1m\u001b[1;3m[chain/end]\u001b[0m \u001b[1m[chain:sumarize_memory] [10.61s] Exiting Chain run with output:\n",
      "\u001b[0m[outputs]\n",
      "\u001b[32;1m\u001b[1;3m[chain/start]\u001b[0m \u001b[1m[chain:RunnableWithMessageHistory] Entering Chain run with input:\n",
      "\u001b[0m{\n",
      "  \"query\": \"Can you kindly list all the cities we spoke about?\"\n",
      "}\n",
      "\u001b[32;1m\u001b[1;3m[chain/start]\u001b[0m \u001b[1m[chain:RunnableWithMessageHistory > chain:insert_history] Entering Chain run with input:\n",
      "\u001b[0m{\n",
      "  \"query\": \"Can you kindly list all the cities we spoke about?\"\n",
      "}\n",
      "\u001b[32;1m\u001b[1;3m[chain/start]\u001b[0m \u001b[1m[chain:RunnableWithMessageHistory > chain:insert_history > chain:RunnableParallel<history>] Entering Chain run with input:\n",
      "\u001b[0m{\n",
      "  \"query\": \"Can you kindly list all the cities we spoke about?\"\n",
      "}\n",
      "\u001b[32;1m\u001b[1;3m[chain/start]\u001b[0m \u001b[1m[chain:RunnableWithMessageHistory > chain:insert_history > chain:RunnableParallel<history> > chain:load_history] Entering Chain run with input:\n",
      "\u001b[0m{\n",
      "  \"query\": \"Can you kindly list all the cities we spoke about?\"\n",
      "}\n",
      "\u001b[36;1m\u001b[1;3m[chain/end]\u001b[0m \u001b[1m[chain:RunnableWithMessageHistory > chain:insert_history > chain:RunnableParallel<history> > chain:load_history] [0ms] Exiting Chain run with output:\n",
      "\u001b[0m[outputs]\n",
      "\u001b[36;1m\u001b[1;3m[chain/end]\u001b[0m \u001b[1m[chain:RunnableWithMessageHistory > chain:insert_history > chain:RunnableParallel<history>] [2ms] Exiting Chain run with output:\n",
      "\u001b[0m[outputs]\n",
      "\u001b[36;1m\u001b[1;3m[chain/end]\u001b[0m \u001b[1m[chain:RunnableWithMessageHistory > chain:insert_history] [6ms] Exiting Chain run with output:\n",
      "\u001b[0m[outputs]\n",
      "\u001b[32;1m\u001b[1;3m[chain/start]\u001b[0m \u001b[1m[chain:RunnableWithMessageHistory > chain:RunnableSequence] Entering Chain run with input:\n",
      "\u001b[0m[inputs]\n",
      "\u001b[32;1m\u001b[1;3m[chain/start]\u001b[0m \u001b[1m[chain:RunnableWithMessageHistory > chain:RunnableSequence > prompt:ChatPromptTemplate] Entering Prompt run with input:\n",
      "\u001b[0m[inputs]\n",
      "\u001b[36;1m\u001b[1;3m[chain/end]\u001b[0m \u001b[1m[chain:RunnableWithMessageHistory > chain:RunnableSequence > prompt:ChatPromptTemplate] [1ms] Exiting Prompt run with output:\n",
      "\u001b[0m[outputs]\n",
      "\u001b[32;1m\u001b[1;3m[llm/start]\u001b[0m \u001b[1m[chain:RunnableWithMessageHistory > chain:RunnableSequence > llm:ChatOpenAI] Entering LLM run with input:\n",
      "\u001b[0m{\n",
      "  \"prompts\": [\n",
      "    \"System: You are a helpful and friendly chatbot 😀 with peronality name Yumi 👩‍🏫.\\nYou are here to help the user with any questions they may have. You\\nhave a sweet and friendly personality. You are confident and knowledgeable,\\nyou are modest and considerate.\\n\\nAI: **Summary of Chat Session**\\n\\nThe chat focused on three locations:\\n\\n**Sarasota, Florida**\\n\\n* Beautiful city on the southwestern coast of Florida\\n* Known for its stunning beaches, especially Siesta Key Beach with white, powdery sand\\n* Rich arts community with attractions like the Ringling Museum of Art, Sarasota Opera, and Sarasota Ballet\\n* Offers nature and outdoor activities like the Marie Selby Botanical Gardens and Myakka River State Park\\n* Has a vibrant dining and shopping scene, including St. Armands Circle\\n\\n**Chicago, Illinois**\\n\\n* Located on the shores of Lake Michigan\\n* Famous for its impressive skyline and architecture, including the Willis Tower and Wrigley Building\\n* Houses world-class museums such as the Art Institute of Chicago, Museum of Science and Industry, and Field Museum\\n* Has a thriving music and theater scene, with renowned institutions like the Chicago Symphony Orchestra and Second City comedy club\\n* Known for its culinary scene, including deep-dish pizza, Chicago-style hot dogs, and Italian beef sandwiches\\n* Home to major sports teams like the Chicago Cubs, White Sox, Bears, Bulls, and Blackhawks\\n* Offers green spaces like Millennium Park with the iconic Cloud Gate sculpture and Grant Park\\n* Provides excellent shopping on the Magnificent Mile\\n* Hosts prestigious universities like the University of Chicago and Northwestern University\\n\\n**Kansas City, Missouri**\\n\\n* Located in the heart of the United States\\n* Known for its jazz and blues music, with the 18th & Vine Historic Jazz District being a must-visit\\n* Offers cultural attractions like the Nelson-Atkins Museum of Art and the Kemper Museum of Contemporary Art\\n* Famous for its barbecue, with renowned places like Joe's Kansas City Bar-B-Que and Arthur Bryant's\\n* Home to the Kansas City Chiefs (NFL) and Kansas City Royals (MLB)\\n* Provides outdoor activities in parks like Swope Park and the Kansas City Zoo\\n* Has a vibrant shopping and entertainment scene, including Country Club Plaza and the Power & Light District\\n\\n**Salt Lake City, Utah**\\n\\n* Capital of Utah, nestled in the Wasatch Mountains\\n* Named after the nearby Great Salt Lake, offering unique activities like bird watching and sailing\\n* Close to world-class ski resorts like Park City, Alta, and Snowbird\\n* Home to Temple Square, the headquarters of the LDS Church, with stunning architecture and historical significance\\n* Offers cultural experiences like the Utah State Capitol, the Natural History Museum of Utah, and the Utah Museum of Fine Arts\\n* Has a vibrant arts scene with venues like the Eccles Theater and the Utah Symphony\\n* Provides family-friendly attractions such as Hogle Zoo, Tracy Aviary, and Discovery Gateway Children's Museum\\n* Home to the Utah Jazz (NBA) and Real Salt Lake (MLS)\\n* Offers a diverse culinary scene and shopping districts like City Creek Center and The Gateway\\n* Is part of the \\\"Silicon Slopes,\\\" a growing tech corridor attracting startups and established companies\\n* Houses the University of Utah, a major research institution contributing to its academic and tech communities\\n\\nThis summary provides a concise overview of the key highlights discussed in the chat session for each location, including specific attractions, cultural offerings, outdoor activities, dining scenes, shopping options, and notable landmarks.\\nHuman: Can you kindly list all the cities we spoke about?\"\n",
      "  ]\n",
      "}\n",
      "\u001b[36;1m\u001b[1;3m[llm/end]\u001b[0m \u001b[1m[chain:RunnableWithMessageHistory > chain:RunnableSequence > llm:ChatOpenAI] [1.17s] Exiting LLM run with output:\n",
      "\u001b[0m{\n",
      "  \"generations\": [\n",
      "    [\n",
      "      {\n",
      "        \"text\": \"Absolutely! Here are the cities we discussed:\\n\\n1. Sarasota, Florida\\n2. Chicago, Illinois\\n3. Kansas City, Missouri\\n4. Salt Lake City, Utah\\n\\nIf you have any more questions or need further details about any of these cities, feel free to ask! 😊\",\n",
      "        \"generation_info\": {\n",
      "          \"finish_reason\": \"stop\",\n",
      "          \"logprobs\": null\n",
      "        },\n",
      "        \"type\": \"ChatGeneration\",\n",
      "        \"message\": {\n",
      "          \"lc\": 1,\n",
      "          \"type\": \"constructor\",\n",
      "          \"id\": [\n",
      "            \"langchain\",\n",
      "            \"schema\",\n",
      "            \"messages\",\n",
      "            \"AIMessage\"\n",
      "          ],\n",
      "          \"kwargs\": {\n",
      "            \"content\": \"Absolutely! Here are the cities we discussed:\\n\\n1. Sarasota, Florida\\n2. Chicago, Illinois\\n3. Kansas City, Missouri\\n4. Salt Lake City, Utah\\n\\nIf you have any more questions or need further details about any of these cities, feel free to ask! 😊\",\n",
      "            \"response_metadata\": {\n",
      "              \"token_usage\": {\n",
      "                \"completion_tokens\": 58,\n",
      "                \"prompt_tokens\": 742,\n",
      "                \"total_tokens\": 800\n",
      "              },\n",
      "              \"model_name\": \"gpt-4o\",\n",
      "              \"system_fingerprint\": \"fp_729ea513f7\",\n",
      "              \"finish_reason\": \"stop\",\n",
      "              \"logprobs\": null\n",
      "            },\n",
      "            \"type\": \"ai\",\n",
      "            \"id\": \"run-95735401-1b12-4351-b6e8-20af7facdcfb-0\",\n",
      "            \"tool_calls\": [],\n",
      "            \"invalid_tool_calls\": []\n",
      "          }\n",
      "        }\n",
      "      }\n",
      "    ]\n",
      "  ],\n",
      "  \"llm_output\": {\n",
      "    \"token_usage\": {\n",
      "      \"completion_tokens\": 58,\n",
      "      \"prompt_tokens\": 742,\n",
      "      \"total_tokens\": 800\n",
      "    },\n",
      "    \"model_name\": \"gpt-4o\",\n",
      "    \"system_fingerprint\": \"fp_729ea513f7\"\n",
      "  },\n",
      "  \"run\": null\n",
      "}\n",
      "\u001b[32;1m\u001b[1;3m[chain/start]\u001b[0m \u001b[1m[chain:RunnableWithMessageHistory > chain:RunnableSequence > parser:StrOutputParser] Entering Parser run with input:\n",
      "\u001b[0m[inputs]\n",
      "\u001b[36;1m\u001b[1;3m[chain/end]\u001b[0m \u001b[1m[chain:RunnableWithMessageHistory > chain:RunnableSequence > parser:StrOutputParser] [1ms] Exiting Parser run with output:\n",
      "\u001b[0m{\n",
      "  \"output\": \"Absolutely! Here are the cities we discussed:\\n\\n1. Sarasota, Florida\\n2. Chicago, Illinois\\n3. Kansas City, Missouri\\n4. Salt Lake City, Utah\\n\\nIf you have any more questions or need further details about any of these cities, feel free to ask! 😊\"\n",
      "}\n",
      "\u001b[36;1m\u001b[1;3m[chain/end]\u001b[0m \u001b[1m[chain:RunnableWithMessageHistory > chain:RunnableSequence] [1.17s] Exiting Chain run with output:\n",
      "\u001b[0m{\n",
      "  \"output\": \"Absolutely! Here are the cities we discussed:\\n\\n1. Sarasota, Florida\\n2. Chicago, Illinois\\n3. Kansas City, Missouri\\n4. Salt Lake City, Utah\\n\\nIf you have any more questions or need further details about any of these cities, feel free to ask! 😊\"\n",
      "}\n",
      "\u001b[36;1m\u001b[1;3m[chain/end]\u001b[0m \u001b[1m[chain:RunnableWithMessageHistory] [1.19s] Exiting Chain run with output:\n",
      "\u001b[0m{\n",
      "  \"output\": \"Absolutely! Here are the cities we discussed:\\n\\n1. Sarasota, Florida\\n2. Chicago, Illinois\\n3. Kansas City, Missouri\\n4. Salt Lake City, Utah\\n\\nIf you have any more questions or need further details about any of these cities, feel free to ask! 😊\"\n",
      "}\n"
     ]
    },
    {
     "data": {
      "text/plain": [
       "'Absolutely! Here are the cities we discussed:\\n\\n1. Sarasota, Florida\\n2. Chicago, Illinois\\n3. Kansas City, Missouri\\n4. Salt Lake City, Utah\\n\\nIf you have any more questions or need further details about any of these cities, feel free to ask! 😊'"
      ]
     },
     "execution_count": 16,
     "metadata": {},
     "output_type": "execute_result"
    }
   ],
   "source": [
    "def baisc_conversation(\n",
    "    query: Dict[str, Any], config: Dict[str, Dict[str, Any]] = None\n",
    ") -> RunnableWithMessageHistory:\n",
    "    basic_convo = GENERAL_PROMPT | openai_llm | StrOutputParser()\n",
    "    with_message_history = RunnableWithMessageHistory(\n",
    "        basic_convo,\n",
    "        get_session_history,\n",
    "        input_messages_key=\"query\",\n",
    "        history_messages_key=\"history\",\n",
    "    )\n",
    "    return with_message_history.invoke(query, config)\n",
    "\n",
    "\n",
    "baisc_conversation(\n",
    "    {\n",
    "        \"query\": \"Can you kindly list all the cities we spoke about?\",\n",
    "    },\n",
    "    config={\"configurable\": {\"session_id\": \"def234\"}},\n",
    ")"
   ]
  },
  {
   "cell_type": "code",
   "execution_count": 17,
   "metadata": {},
   "outputs": [
    {
     "name": "stdout",
     "output_type": "stream",
     "text": [
      "3\n",
      "True\n",
      "[AIMessage(content='**Summary of Chat Session**\\n\\nThe chat focused on three locations:\\n\\n**Sarasota, Florida**\\n\\n* Beautiful city on the southwestern coast of Florida\\n* Known for its stunning beaches, especially Siesta Key Beach with white, powdery sand\\n* Rich arts community with attractions like the Ringling Museum of Art, Sarasota Opera, and Sarasota Ballet\\n* Offers nature and outdoor activities like the Marie Selby Botanical Gardens and Myakka River State Park\\n* Has a vibrant dining and shopping scene, including St. Armands Circle\\n\\n**Chicago, Illinois**\\n\\n* Located on the shores of Lake Michigan\\n* Famous for its impressive skyline and architecture, including the Willis Tower and Wrigley Building\\n* Houses world-class museums such as the Art Institute of Chicago, Museum of Science and Industry, and Field Museum\\n* Has a thriving music and theater scene, with renowned institutions like the Chicago Symphony Orchestra and Second City comedy club\\n* Known for its culinary scene, including deep-dish pizza, Chicago-style hot dogs, and Italian beef sandwiches\\n* Home to major sports teams like the Chicago Cubs, White Sox, Bears, Bulls, and Blackhawks\\n* Offers green spaces like Millennium Park with the iconic Cloud Gate sculpture and Grant Park\\n* Provides excellent shopping on the Magnificent Mile\\n* Hosts prestigious universities like the University of Chicago and Northwestern University\\n\\n**Kansas City, Missouri**\\n\\n* Located in the heart of the United States\\n* Known for its jazz and blues music, with the 18th & Vine Historic Jazz District being a must-visit\\n* Offers cultural attractions like the Nelson-Atkins Museum of Art and the Kemper Museum of Contemporary Art\\n* Famous for its barbecue, with renowned places like Joe\\'s Kansas City Bar-B-Que and Arthur Bryant\\'s\\n* Home to the Kansas City Chiefs (NFL) and Kansas City Royals (MLB)\\n* Provides outdoor activities in parks like Swope Park and the Kansas City Zoo\\n* Has a vibrant shopping and entertainment scene, including Country Club Plaza and the Power & Light District\\n\\n**Salt Lake City, Utah**\\n\\n* Capital of Utah, nestled in the Wasatch Mountains\\n* Named after the nearby Great Salt Lake, offering unique activities like bird watching and sailing\\n* Close to world-class ski resorts like Park City, Alta, and Snowbird\\n* Home to Temple Square, the headquarters of the LDS Church, with stunning architecture and historical significance\\n* Offers cultural experiences like the Utah State Capitol, the Natural History Museum of Utah, and the Utah Museum of Fine Arts\\n* Has a vibrant arts scene with venues like the Eccles Theater and the Utah Symphony\\n* Provides family-friendly attractions such as Hogle Zoo, Tracy Aviary, and Discovery Gateway Children\\'s Museum\\n* Home to the Utah Jazz (NBA) and Real Salt Lake (MLS)\\n* Offers a diverse culinary scene and shopping districts like City Creek Center and The Gateway\\n* Is part of the \"Silicon Slopes,\" a growing tech corridor attracting startups and established companies\\n* Houses the University of Utah, a major research institution contributing to its academic and tech communities\\n\\nThis summary provides a concise overview of the key highlights discussed in the chat session for each location, including specific attractions, cultural offerings, outdoor activities, dining scenes, shopping options, and notable landmarks.', response_metadata={'prompt_feedback': {'block_reason': 0, 'safety_ratings': []}, 'finish_reason': 'STOP', 'safety_ratings': [{'category': 'HARM_CATEGORY_SEXUALLY_EXPLICIT', 'probability': 'NEGLIGIBLE', 'blocked': False}, {'category': 'HARM_CATEGORY_HATE_SPEECH', 'probability': 'NEGLIGIBLE', 'blocked': False}, {'category': 'HARM_CATEGORY_HARASSMENT', 'probability': 'NEGLIGIBLE', 'blocked': False}, {'category': 'HARM_CATEGORY_DANGEROUS_CONTENT', 'probability': 'NEGLIGIBLE', 'blocked': False}]}, id='run-be00ff0f-6e01-4818-8732-a46d4b4aca83-0'), HumanMessage(content='Can you kindly list all the cities we spoke about?'), AIMessage(content='Absolutely! Here are the cities we discussed:\\n\\n1. Sarasota, Florida\\n2. Chicago, Illinois\\n3. Kansas City, Missouri\\n4. Salt Lake City, Utah\\n\\nIf you have any more questions or need further details about any of these cities, feel free to ask! 😊')]\n"
     ]
    }
   ],
   "source": [
    "print(len(memory_store[\"def234\"].messages))\n",
    "print(check_memory_token_size(memory_store[\"def234\"].messages))\n",
    "print(memory_store[\"def234\"].messages)"
   ]
  },
  {
   "cell_type": "code",
   "execution_count": 8,
   "metadata": {},
   "outputs": [
    {
     "name": "stdout",
     "output_type": "stream",
     "text": [
      "4\n"
     ]
    },
    {
     "ename": "AttributeError",
     "evalue": "'str' object has no attribute 'page_content'",
     "output_type": "error",
     "traceback": [
      "\u001b[0;31m---------------------------------------------------------------------------\u001b[0m",
      "\u001b[0;31mAttributeError\u001b[0m                            Traceback (most recent call last)",
      "Cell \u001b[0;32mIn[8], line 3\u001b[0m\n\u001b[1;32m      1\u001b[0m docs \u001b[38;5;241m=\u001b[39m \u001b[38;5;28;01mawait\u001b[39;00m basic_retriever(query\u001b[38;5;241m=\u001b[39m\u001b[38;5;124m\"\u001b[39m\u001b[38;5;124mWho is Alis?\u001b[39m\u001b[38;5;124m\"\u001b[39m)\n\u001b[1;32m      2\u001b[0m \u001b[38;5;28mprint\u001b[39m(\u001b[38;5;28mlen\u001b[39m(docs))\n\u001b[0;32m----> 3\u001b[0m \u001b[38;5;28mprint\u001b[39m(\u001b[43mdocs\u001b[49m\u001b[43m[\u001b[49m\u001b[38;5;241;43m0\u001b[39;49m\u001b[43m]\u001b[49m\u001b[38;5;241;43m.\u001b[39;49m\u001b[43mpage_content\u001b[49m)\n",
      "\u001b[0;31mAttributeError\u001b[0m: 'str' object has no attribute 'page_content'"
     ]
    }
   ],
   "source": [
    "docs = await basic_retriever(query=\"Who is Alis?\")\n",
    "print(len(docs))\n",
    "print(docs[0].page_content)"
   ]
  },
  {
   "cell_type": "code",
   "execution_count": null,
   "metadata": {},
   "outputs": [],
   "source": [
    "retriever_runnable = RunnableLambda(basic_retriever)\n",
    "basic_convo = RAG_PROMPT | openai_llm | StrOutputParser()\n",
    "\n",
    "with_message_history = RunnableWithMessageHistory(\n",
    "    basic_convo,\n",
    "    get_session_history,\n",
    "    input_messages_key=\"query\",\n",
    "    history_messages_key=\"history\",\n",
    ")\n",
    "query = \"Who is Alis?\"\n",
    "chain = (\n",
    "    {\"context\": retriever_runnable, \"query\": RunnablePassthrough()}\n",
    "    | with_message_history\n",
    "    | StrOutputParser()\n",
    ")\n",
    "\n",
    "await chain.ainvoke(\"Who is Alis?\", config={\"configurable\": {\"session_id\": \"def234\"}})"
   ]
  },
  {
   "cell_type": "code",
   "execution_count": null,
   "metadata": {},
   "outputs": [],
   "source": [
    "async def basic_rag_conversation(\n",
    "    query: str, config: Dict[str, Dict[str, Any]]\n",
    ") -> RunnableSerializable:\n",
    "    basic_convo = RAG_PROMPT | openai_llm | StrOutputParser()\n",
    "    with_message_history = RunnableWithMessageHistory(\n",
    "        basic_convo,\n",
    "        get_session_history,\n",
    "        input_messages_key=\"query\",\n",
    "        history_messages_key=\"history\",\n",
    "    )\n",
    "    retriever_runnable = RunnableLambda(basic_retriever)\n",
    "    chain = (\n",
    "        {\"context\": retriever_runnable, \"query\": RunnablePassthrough()}\n",
    "        | with_message_history\n",
    "        | StrOutputParser()\n",
    "    )\n",
    "    response = await chain.ainvoke(query, config)\n",
    "    return response\n",
    "\n",
    "\n",
    "response = basic_rag_conversation(\n",
    "    \"Who is Alis?\", {\"configurable\": {\"session_id\": \"def234\"}}\n",
    ")\n",
    "\n",
    "print(await response)"
   ]
  },
  {
   "cell_type": "code",
   "execution_count": null,
   "metadata": {},
   "outputs": [],
   "source": [
    "import tiktoken\n",
    "\n",
    "encoding = tiktoken.get_encoding(\"cl100k_base\")\n",
    "# encoding = tiktoken.encoding_for_model(\"gpt-3.5-turbo\")\n",
    "count = []\n",
    "for message in memory_store[\"def234\"].messages:\n",
    "    token_count = len(encoding.encode(message.content))\n",
    "    print(token_count, \"\\n______________________\\n\")\n",
    "    count.append(token_count)\n",
    "print(sum(count))"
   ]
  },
  {
   "cell_type": "code",
   "execution_count": null,
   "metadata": {},
   "outputs": [
    {
     "data": {
      "text/plain": [
       "{'def234': InMemoryChatMessageHistory(messages=[])}"
      ]
     },
     "execution_count": 45,
     "metadata": {},
     "output_type": "execute_result"
    }
   ],
   "source": [
    "memory_store"
   ]
  },
  {
   "cell_type": "code",
   "execution_count": null,
   "metadata": {},
   "outputs": [
    {
     "name": "stdout",
     "output_type": "stream",
     "text": [
      "\u001b[32;1m\u001b[1;3m[chain/start]\u001b[0m \u001b[1m[chain:RunnableSequence] Entering Chain run with input:\n",
      "\u001b[0m{\n",
      "  \"query\": \"Who is Alis?\"\n",
      "}\n",
      "\u001b[32;1m\u001b[1;3m[chain/start]\u001b[0m \u001b[1m[chain:RunnableSequence > chain:RunnableAssign<messages_summarized>] Entering Chain run with input:\n",
      "\u001b[0m{\n",
      "  \"query\": \"Who is Alis?\"\n",
      "}\n",
      "\u001b[32;1m\u001b[1;3m[chain/start]\u001b[0m \u001b[1m[chain:RunnableSequence > chain:RunnableAssign<messages_summarized> > chain:RunnableParallel<messages_summarized>] Entering Chain run with input:\n",
      "\u001b[0m{\n",
      "  \"query\": \"Who is Alis?\"\n",
      "}\n",
      "\u001b[32;1m\u001b[1;3m[chain/start]\u001b[0m \u001b[1m[chain:RunnableSequence > chain:RunnableAssign<messages_summarized> > chain:RunnableParallel<messages_summarized> > chain:summarize_memory] Entering Chain run with input:\n",
      "\u001b[0m{\n",
      "  \"query\": \"Who is Alis?\"\n",
      "}\n",
      "\u001b[31;1m\u001b[1;3m[chain/error]\u001b[0m \u001b[1m[chain:RunnableSequence > chain:RunnableAssign<messages_summarized> > chain:RunnableParallel<messages_summarized> > chain:summarize_memory] [1ms] Chain run errored with error:\n",
      "\u001b[0m\"TypeError(\\\"summarize_memory() missing 1 required positional argument: 'session_id'\\\")Traceback (most recent call last):\\n\\n\\n  File \\\"/Users/barryweiss/.pyenv/versions/3.11.8/envs/yumi-py3.11.8/lib/python3.11/site-packages/langchain_core/runnables/base.py\\\", line 1542, in _acall_with_config\\n    output: Output = await asyncio.create_task(coro, context=context)  # type: ignore\\n                     ^^^^^^^^^^^^^^^^^^^^^^^^^^^^^^^^^^^^^^^^^^^^^^^^\\n\\n\\n  File \\\"/Users/barryweiss/.pyenv/versions/3.11.8/envs/yumi-py3.11.8/lib/python3.11/site-packages/langchain_core/runnables/base.py\\\", line 3799, in _ainvoke\\n    output = await acall_func_with_variable_args(\\n                   ^^^^^^^^^^^^^^^^^^^^^^^^^^^^^^\\n\\n\\n  File \\\"/Users/barryweiss/.pyenv/versions/3.11.8/envs/yumi-py3.11.8/lib/python3.11/site-packages/langchain_core/runnables/config.py\\\", line 388, in acall_func_with_variable_args\\n    return func(input, **kwargs)  # type: ignore[call-arg]\\n           ^^^^^^^^^^^^^^^^^^^^^\\n\\n\\nTypeError: summarize_memory() missing 1 required positional argument: 'session_id'\"\n",
      "\u001b[31;1m\u001b[1;3m[chain/error]\u001b[0m \u001b[1m[chain:RunnableSequence > chain:RunnableAssign<messages_summarized> > chain:RunnableParallel<messages_summarized>] [2ms] Chain run errored with error:\n",
      "\u001b[0m\"TypeError(\\\"summarize_memory() missing 1 required positional argument: 'session_id'\\\")Traceback (most recent call last):\\n\\n\\n  File \\\"/Users/barryweiss/.pyenv/versions/3.11.8/envs/yumi-py3.11.8/lib/python3.11/site-packages/langchain_core/runnables/base.py\\\", line 3041, in ainvoke\\n    results = await asyncio.gather(\\n              ^^^^^^^^^^^^^^^^^^^^^\\n\\n\\n  File \\\"/Users/barryweiss/.pyenv/versions/3.11.8/envs/yumi-py3.11.8/lib/python3.11/site-packages/langchain_core/runnables/base.py\\\", line 3852, in ainvoke\\n    return await self._acall_with_config(\\n           ^^^^^^^^^^^^^^^^^^^^^^^^^^^^^^\\n\\n\\n  File \\\"/Users/barryweiss/.pyenv/versions/3.11.8/envs/yumi-py3.11.8/lib/python3.11/site-packages/langchain_core/runnables/base.py\\\", line 1542, in _acall_with_config\\n    output: Output = await asyncio.create_task(coro, context=context)  # type: ignore\\n                     ^^^^^^^^^^^^^^^^^^^^^^^^^^^^^^^^^^^^^^^^^^^^^^^^\\n\\n\\n  File \\\"/Users/barryweiss/.pyenv/versions/3.11.8/envs/yumi-py3.11.8/lib/python3.11/site-packages/langchain_core/runnables/base.py\\\", line 3799, in _ainvoke\\n    output = await acall_func_with_variable_args(\\n                   ^^^^^^^^^^^^^^^^^^^^^^^^^^^^^^\\n\\n\\n  File \\\"/Users/barryweiss/.pyenv/versions/3.11.8/envs/yumi-py3.11.8/lib/python3.11/site-packages/langchain_core/runnables/config.py\\\", line 388, in acall_func_with_variable_args\\n    return func(input, **kwargs)  # type: ignore[call-arg]\\n           ^^^^^^^^^^^^^^^^^^^^^\\n\\n\\nTypeError: summarize_memory() missing 1 required positional argument: 'session_id'\"\n",
      "\u001b[31;1m\u001b[1;3m[chain/error]\u001b[0m \u001b[1m[chain:RunnableSequence > chain:RunnableAssign<messages_summarized>] [7ms] Chain run errored with error:\n",
      "\u001b[0m\"TypeError(\\\"summarize_memory() missing 1 required positional argument: 'session_id'\\\")Traceback (most recent call last):\\n\\n\\n  File \\\"/Users/barryweiss/.pyenv/versions/3.11.8/envs/yumi-py3.11.8/lib/python3.11/site-packages/langchain_core/runnables/base.py\\\", line 1542, in _acall_with_config\\n    output: Output = await asyncio.create_task(coro, context=context)  # type: ignore\\n                     ^^^^^^^^^^^^^^^^^^^^^^^^^^^^^^^^^^^^^^^^^^^^^^^^\\n\\n\\n  File \\\"/Users/barryweiss/.pyenv/versions/3.11.8/envs/yumi-py3.11.8/lib/python3.11/site-packages/langchain_core/runnables/passthrough.py\\\", line 484, in _ainvoke\\n    **await self.mapper.ainvoke(\\n      ^^^^^^^^^^^^^^^^^^^^^^^^^^\\n\\n\\n  File \\\"/Users/barryweiss/.pyenv/versions/3.11.8/envs/yumi-py3.11.8/lib/python3.11/site-packages/langchain_core/runnables/base.py\\\", line 3041, in ainvoke\\n    results = await asyncio.gather(\\n              ^^^^^^^^^^^^^^^^^^^^^\\n\\n\\n  File \\\"/Users/barryweiss/.pyenv/versions/3.11.8/envs/yumi-py3.11.8/lib/python3.11/site-packages/langchain_core/runnables/base.py\\\", line 3852, in ainvoke\\n    return await self._acall_with_config(\\n           ^^^^^^^^^^^^^^^^^^^^^^^^^^^^^^\\n\\n\\n  File \\\"/Users/barryweiss/.pyenv/versions/3.11.8/envs/yumi-py3.11.8/lib/python3.11/site-packages/langchain_core/runnables/base.py\\\", line 1542, in _acall_with_config\\n    output: Output = await asyncio.create_task(coro, context=context)  # type: ignore\\n                     ^^^^^^^^^^^^^^^^^^^^^^^^^^^^^^^^^^^^^^^^^^^^^^^^\\n\\n\\n  File \\\"/Users/barryweiss/.pyenv/versions/3.11.8/envs/yumi-py3.11.8/lib/python3.11/site-packages/langchain_core/runnables/base.py\\\", line 3799, in _ainvoke\\n    output = await acall_func_with_variable_args(\\n                   ^^^^^^^^^^^^^^^^^^^^^^^^^^^^^^\\n\\n\\n  File \\\"/Users/barryweiss/.pyenv/versions/3.11.8/envs/yumi-py3.11.8/lib/python3.11/site-packages/langchain_core/runnables/config.py\\\", line 388, in acall_func_with_variable_args\\n    return func(input, **kwargs)  # type: ignore[call-arg]\\n           ^^^^^^^^^^^^^^^^^^^^^\\n\\n\\nTypeError: summarize_memory() missing 1 required positional argument: 'session_id'\"\n",
      "\u001b[31;1m\u001b[1;3m[chain/error]\u001b[0m \u001b[1m[chain:RunnableSequence] [15ms] Chain run errored with error:\n",
      "\u001b[0m\"TypeError(\\\"summarize_memory() missing 1 required positional argument: 'session_id'\\\")Traceback (most recent call last):\\n\\n\\n  File \\\"/Users/barryweiss/.pyenv/versions/3.11.8/envs/yumi-py3.11.8/lib/python3.11/site-packages/langchain_core/runnables/base.py\\\", line 2405, in ainvoke\\n    input = await step.ainvoke(\\n            ^^^^^^^^^^^^^^^^^^^\\n\\n\\n  File \\\"/Users/barryweiss/.pyenv/versions/3.11.8/envs/yumi-py3.11.8/lib/python3.11/site-packages/langchain_core/runnables/passthrough.py\\\", line 497, in ainvoke\\n    return await self._acall_with_config(self._ainvoke, input, config, **kwargs)\\n           ^^^^^^^^^^^^^^^^^^^^^^^^^^^^^^^^^^^^^^^^^^^^^^^^^^^^^^^^^^^^^^^^^^^^^\\n\\n\\n  File \\\"/Users/barryweiss/.pyenv/versions/3.11.8/envs/yumi-py3.11.8/lib/python3.11/site-packages/langchain_core/runnables/base.py\\\", line 1542, in _acall_with_config\\n    output: Output = await asyncio.create_task(coro, context=context)  # type: ignore\\n                     ^^^^^^^^^^^^^^^^^^^^^^^^^^^^^^^^^^^^^^^^^^^^^^^^\\n\\n\\n  File \\\"/Users/barryweiss/.pyenv/versions/3.11.8/envs/yumi-py3.11.8/lib/python3.11/site-packages/langchain_core/runnables/passthrough.py\\\", line 484, in _ainvoke\\n    **await self.mapper.ainvoke(\\n      ^^^^^^^^^^^^^^^^^^^^^^^^^^\\n\\n\\n  File \\\"/Users/barryweiss/.pyenv/versions/3.11.8/envs/yumi-py3.11.8/lib/python3.11/site-packages/langchain_core/runnables/base.py\\\", line 3041, in ainvoke\\n    results = await asyncio.gather(\\n              ^^^^^^^^^^^^^^^^^^^^^\\n\\n\\n  File \\\"/Users/barryweiss/.pyenv/versions/3.11.8/envs/yumi-py3.11.8/lib/python3.11/site-packages/langchain_core/runnables/base.py\\\", line 3852, in ainvoke\\n    return await self._acall_with_config(\\n           ^^^^^^^^^^^^^^^^^^^^^^^^^^^^^^\\n\\n\\n  File \\\"/Users/barryweiss/.pyenv/versions/3.11.8/envs/yumi-py3.11.8/lib/python3.11/site-packages/langchain_core/runnables/base.py\\\", line 1542, in _acall_with_config\\n    output: Output = await asyncio.create_task(coro, context=context)  # type: ignore\\n                     ^^^^^^^^^^^^^^^^^^^^^^^^^^^^^^^^^^^^^^^^^^^^^^^^\\n\\n\\n  File \\\"/Users/barryweiss/.pyenv/versions/3.11.8/envs/yumi-py3.11.8/lib/python3.11/site-packages/langchain_core/runnables/base.py\\\", line 3799, in _ainvoke\\n    output = await acall_func_with_variable_args(\\n                   ^^^^^^^^^^^^^^^^^^^^^^^^^^^^^^\\n\\n\\n  File \\\"/Users/barryweiss/.pyenv/versions/3.11.8/envs/yumi-py3.11.8/lib/python3.11/site-packages/langchain_core/runnables/config.py\\\", line 388, in acall_func_with_variable_args\\n    return func(input, **kwargs)  # type: ignore[call-arg]\\n           ^^^^^^^^^^^^^^^^^^^^^\\n\\n\\nTypeError: summarize_memory() missing 1 required positional argument: 'session_id'\"\n"
     ]
    },
    {
     "ename": "TypeError",
     "evalue": "summarize_memory() missing 1 required positional argument: 'session_id'",
     "output_type": "error",
     "traceback": [
      "\u001b[0;31m---------------------------------------------------------------------------\u001b[0m",
      "\u001b[0;31mTypeError\u001b[0m                                 Traceback (most recent call last)",
      "Cell \u001b[0;32mIn[46], line 37\u001b[0m\n\u001b[1;32m     30\u001b[0m         \u001b[38;5;28;01mreturn\u001b[39;00m \u001b[38;5;28;01mTrue\u001b[39;00m\n\u001b[1;32m     33\u001b[0m chain \u001b[38;5;241m=\u001b[39m (\n\u001b[1;32m     34\u001b[0m     RunnablePassthrough\u001b[38;5;241m.\u001b[39massign(messages_summarized\u001b[38;5;241m=\u001b[39msummarize_memory)\n\u001b[1;32m     35\u001b[0m     \u001b[38;5;241m|\u001b[39m with_message_history\n\u001b[1;32m     36\u001b[0m )\n\u001b[0;32m---> 37\u001b[0m \u001b[38;5;28;01mawait\u001b[39;00m chain\u001b[38;5;241m.\u001b[39mainvoke(\n\u001b[1;32m     38\u001b[0m     {\u001b[38;5;124m\"\u001b[39m\u001b[38;5;124mquery\u001b[39m\u001b[38;5;124m\"\u001b[39m: \u001b[38;5;124m\"\u001b[39m\u001b[38;5;124mWho is Alis?\u001b[39m\u001b[38;5;124m\"\u001b[39m}, config\u001b[38;5;241m=\u001b[39m{\u001b[38;5;124m\"\u001b[39m\u001b[38;5;124mconfigurable\u001b[39m\u001b[38;5;124m\"\u001b[39m: {\u001b[38;5;124m\"\u001b[39m\u001b[38;5;124msession_id\u001b[39m\u001b[38;5;124m\"\u001b[39m: \u001b[38;5;124m\"\u001b[39m\u001b[38;5;124mdef234\u001b[39m\u001b[38;5;124m\"\u001b[39m}}\n\u001b[1;32m     39\u001b[0m )\n",
      "File \u001b[0;32m~/.pyenv/versions/3.11.8/envs/yumi-py3.11.8/lib/python3.11/site-packages/langchain_core/runnables/base.py:2405\u001b[0m, in \u001b[0;36mRunnableSequence.ainvoke\u001b[0;34m(self, input, config, **kwargs)\u001b[0m\n\u001b[1;32m   2403\u001b[0m \u001b[38;5;28;01mtry\u001b[39;00m:\n\u001b[1;32m   2404\u001b[0m     \u001b[38;5;28;01mfor\u001b[39;00m i, step \u001b[38;5;129;01min\u001b[39;00m \u001b[38;5;28menumerate\u001b[39m(\u001b[38;5;28mself\u001b[39m\u001b[38;5;241m.\u001b[39msteps):\n\u001b[0;32m-> 2405\u001b[0m         \u001b[38;5;28minput\u001b[39m \u001b[38;5;241m=\u001b[39m \u001b[38;5;28;01mawait\u001b[39;00m step\u001b[38;5;241m.\u001b[39mainvoke(\n\u001b[1;32m   2406\u001b[0m             \u001b[38;5;28minput\u001b[39m,\n\u001b[1;32m   2407\u001b[0m             \u001b[38;5;66;03m# mark each step as a child run\u001b[39;00m\n\u001b[1;32m   2408\u001b[0m             patch_config(\n\u001b[1;32m   2409\u001b[0m                 config, callbacks\u001b[38;5;241m=\u001b[39mrun_manager\u001b[38;5;241m.\u001b[39mget_child(\u001b[38;5;124mf\u001b[39m\u001b[38;5;124m\"\u001b[39m\u001b[38;5;124mseq:step:\u001b[39m\u001b[38;5;132;01m{\u001b[39;00mi\u001b[38;5;241m+\u001b[39m\u001b[38;5;241m1\u001b[39m\u001b[38;5;132;01m}\u001b[39;00m\u001b[38;5;124m\"\u001b[39m)\n\u001b[1;32m   2410\u001b[0m             ),\n\u001b[1;32m   2411\u001b[0m         )\n\u001b[1;32m   2412\u001b[0m \u001b[38;5;66;03m# finish the root run\u001b[39;00m\n\u001b[1;32m   2413\u001b[0m \u001b[38;5;28;01mexcept\u001b[39;00m \u001b[38;5;167;01mBaseException\u001b[39;00m \u001b[38;5;28;01mas\u001b[39;00m e:\n",
      "File \u001b[0;32m~/.pyenv/versions/3.11.8/envs/yumi-py3.11.8/lib/python3.11/site-packages/langchain_core/runnables/passthrough.py:497\u001b[0m, in \u001b[0;36mRunnableAssign.ainvoke\u001b[0;34m(self, input, config, **kwargs)\u001b[0m\n\u001b[1;32m    491\u001b[0m \u001b[38;5;28;01masync\u001b[39;00m \u001b[38;5;28;01mdef\u001b[39;00m \u001b[38;5;21mainvoke\u001b[39m(\n\u001b[1;32m    492\u001b[0m     \u001b[38;5;28mself\u001b[39m,\n\u001b[1;32m    493\u001b[0m     \u001b[38;5;28minput\u001b[39m: Dict[\u001b[38;5;28mstr\u001b[39m, Any],\n\u001b[1;32m    494\u001b[0m     config: Optional[RunnableConfig] \u001b[38;5;241m=\u001b[39m \u001b[38;5;28;01mNone\u001b[39;00m,\n\u001b[1;32m    495\u001b[0m     \u001b[38;5;241m*\u001b[39m\u001b[38;5;241m*\u001b[39mkwargs: Any,\n\u001b[1;32m    496\u001b[0m ) \u001b[38;5;241m-\u001b[39m\u001b[38;5;241m>\u001b[39m Dict[\u001b[38;5;28mstr\u001b[39m, Any]:\n\u001b[0;32m--> 497\u001b[0m     \u001b[38;5;28;01mreturn\u001b[39;00m \u001b[38;5;28;01mawait\u001b[39;00m \u001b[38;5;28mself\u001b[39m\u001b[38;5;241m.\u001b[39m_acall_with_config(\u001b[38;5;28mself\u001b[39m\u001b[38;5;241m.\u001b[39m_ainvoke, \u001b[38;5;28minput\u001b[39m, config, \u001b[38;5;241m*\u001b[39m\u001b[38;5;241m*\u001b[39mkwargs)\n",
      "File \u001b[0;32m~/.pyenv/versions/3.11.8/envs/yumi-py3.11.8/lib/python3.11/site-packages/langchain_core/runnables/base.py:1542\u001b[0m, in \u001b[0;36mRunnable._acall_with_config\u001b[0;34m(self, func, input, config, run_type, **kwargs)\u001b[0m\n\u001b[1;32m   1538\u001b[0m coro \u001b[38;5;241m=\u001b[39m acall_func_with_variable_args(\n\u001b[1;32m   1539\u001b[0m     func, \u001b[38;5;28minput\u001b[39m, config, run_manager, \u001b[38;5;241m*\u001b[39m\u001b[38;5;241m*\u001b[39mkwargs\n\u001b[1;32m   1540\u001b[0m )\n\u001b[1;32m   1541\u001b[0m \u001b[38;5;28;01mif\u001b[39;00m accepts_context(asyncio\u001b[38;5;241m.\u001b[39mcreate_task):\n\u001b[0;32m-> 1542\u001b[0m     output: Output \u001b[38;5;241m=\u001b[39m \u001b[38;5;28;01mawait\u001b[39;00m asyncio\u001b[38;5;241m.\u001b[39mcreate_task(coro, context\u001b[38;5;241m=\u001b[39mcontext)  \u001b[38;5;66;03m# type: ignore\u001b[39;00m\n\u001b[1;32m   1543\u001b[0m \u001b[38;5;28;01melse\u001b[39;00m:\n\u001b[1;32m   1544\u001b[0m     output \u001b[38;5;241m=\u001b[39m \u001b[38;5;28;01mawait\u001b[39;00m coro\n",
      "File \u001b[0;32m~/.pyenv/versions/3.11.8/envs/yumi-py3.11.8/lib/python3.11/site-packages/langchain_core/runnables/passthrough.py:484\u001b[0m, in \u001b[0;36mRunnableAssign._ainvoke\u001b[0;34m(self, input, run_manager, config, **kwargs)\u001b[0m\n\u001b[1;32m    471\u001b[0m \u001b[38;5;28;01masync\u001b[39;00m \u001b[38;5;28;01mdef\u001b[39;00m \u001b[38;5;21m_ainvoke\u001b[39m(\n\u001b[1;32m    472\u001b[0m     \u001b[38;5;28mself\u001b[39m,\n\u001b[1;32m    473\u001b[0m     \u001b[38;5;28minput\u001b[39m: Dict[\u001b[38;5;28mstr\u001b[39m, Any],\n\u001b[0;32m   (...)\u001b[0m\n\u001b[1;32m    476\u001b[0m     \u001b[38;5;241m*\u001b[39m\u001b[38;5;241m*\u001b[39mkwargs: Any,\n\u001b[1;32m    477\u001b[0m ) \u001b[38;5;241m-\u001b[39m\u001b[38;5;241m>\u001b[39m Dict[\u001b[38;5;28mstr\u001b[39m, Any]:\n\u001b[1;32m    478\u001b[0m     \u001b[38;5;28;01massert\u001b[39;00m \u001b[38;5;28misinstance\u001b[39m(\n\u001b[1;32m    479\u001b[0m         \u001b[38;5;28minput\u001b[39m, \u001b[38;5;28mdict\u001b[39m\n\u001b[1;32m    480\u001b[0m     ), \u001b[38;5;124m\"\u001b[39m\u001b[38;5;124mThe input to RunnablePassthrough.assign() must be a dict.\u001b[39m\u001b[38;5;124m\"\u001b[39m\n\u001b[1;32m    482\u001b[0m     \u001b[38;5;28;01mreturn\u001b[39;00m {\n\u001b[1;32m    483\u001b[0m         \u001b[38;5;241m*\u001b[39m\u001b[38;5;241m*\u001b[39m\u001b[38;5;28minput\u001b[39m,\n\u001b[0;32m--> 484\u001b[0m         \u001b[38;5;241m*\u001b[39m\u001b[38;5;241m*\u001b[39m\u001b[38;5;28;01mawait\u001b[39;00m \u001b[38;5;28mself\u001b[39m\u001b[38;5;241m.\u001b[39mmapper\u001b[38;5;241m.\u001b[39mainvoke(\n\u001b[1;32m    485\u001b[0m             \u001b[38;5;28minput\u001b[39m,\n\u001b[1;32m    486\u001b[0m             patch_config(config, callbacks\u001b[38;5;241m=\u001b[39mrun_manager\u001b[38;5;241m.\u001b[39mget_child()),\n\u001b[1;32m    487\u001b[0m             \u001b[38;5;241m*\u001b[39m\u001b[38;5;241m*\u001b[39mkwargs,\n\u001b[1;32m    488\u001b[0m         ),\n\u001b[1;32m    489\u001b[0m     }\n",
      "File \u001b[0;32m~/.pyenv/versions/3.11.8/envs/yumi-py3.11.8/lib/python3.11/site-packages/langchain_core/runnables/base.py:3041\u001b[0m, in \u001b[0;36mRunnableParallel.ainvoke\u001b[0;34m(self, input, config, **kwargs)\u001b[0m\n\u001b[1;32m   3038\u001b[0m \u001b[38;5;28;01mtry\u001b[39;00m:\n\u001b[1;32m   3039\u001b[0m     \u001b[38;5;66;03m# copy to avoid issues from the caller mutating the steps during invoke()\u001b[39;00m\n\u001b[1;32m   3040\u001b[0m     steps \u001b[38;5;241m=\u001b[39m \u001b[38;5;28mdict\u001b[39m(\u001b[38;5;28mself\u001b[39m\u001b[38;5;241m.\u001b[39msteps__)\n\u001b[0;32m-> 3041\u001b[0m     results \u001b[38;5;241m=\u001b[39m \u001b[38;5;28;01mawait\u001b[39;00m asyncio\u001b[38;5;241m.\u001b[39mgather(\n\u001b[1;32m   3042\u001b[0m         \u001b[38;5;241m*\u001b[39m(\n\u001b[1;32m   3043\u001b[0m             step\u001b[38;5;241m.\u001b[39mainvoke(\n\u001b[1;32m   3044\u001b[0m                 \u001b[38;5;28minput\u001b[39m,\n\u001b[1;32m   3045\u001b[0m                 \u001b[38;5;66;03m# mark each step as a child run\u001b[39;00m\n\u001b[1;32m   3046\u001b[0m                 patch_config(\n\u001b[1;32m   3047\u001b[0m                     config, callbacks\u001b[38;5;241m=\u001b[39mrun_manager\u001b[38;5;241m.\u001b[39mget_child(\u001b[38;5;124mf\u001b[39m\u001b[38;5;124m\"\u001b[39m\u001b[38;5;124mmap:key:\u001b[39m\u001b[38;5;132;01m{\u001b[39;00mkey\u001b[38;5;132;01m}\u001b[39;00m\u001b[38;5;124m\"\u001b[39m)\n\u001b[1;32m   3048\u001b[0m                 ),\n\u001b[1;32m   3049\u001b[0m             )\n\u001b[1;32m   3050\u001b[0m             \u001b[38;5;28;01mfor\u001b[39;00m key, step \u001b[38;5;129;01min\u001b[39;00m steps\u001b[38;5;241m.\u001b[39mitems()\n\u001b[1;32m   3051\u001b[0m         )\n\u001b[1;32m   3052\u001b[0m     )\n\u001b[1;32m   3053\u001b[0m     output \u001b[38;5;241m=\u001b[39m {key: value \u001b[38;5;28;01mfor\u001b[39;00m key, value \u001b[38;5;129;01min\u001b[39;00m \u001b[38;5;28mzip\u001b[39m(steps, results)}\n\u001b[1;32m   3054\u001b[0m \u001b[38;5;66;03m# finish the root run\u001b[39;00m\n",
      "File \u001b[0;32m~/.pyenv/versions/3.11.8/envs/yumi-py3.11.8/lib/python3.11/site-packages/langchain_core/runnables/base.py:3852\u001b[0m, in \u001b[0;36mRunnableLambda.ainvoke\u001b[0;34m(self, input, config, **kwargs)\u001b[0m\n\u001b[1;32m   3850\u001b[0m \u001b[38;5;250m\u001b[39m\u001b[38;5;124;03m\"\"\"Invoke this runnable asynchronously.\"\"\"\u001b[39;00m\n\u001b[1;32m   3851\u001b[0m the_func \u001b[38;5;241m=\u001b[39m \u001b[38;5;28mself\u001b[39m\u001b[38;5;241m.\u001b[39mafunc \u001b[38;5;28;01mif\u001b[39;00m \u001b[38;5;28mhasattr\u001b[39m(\u001b[38;5;28mself\u001b[39m, \u001b[38;5;124m\"\u001b[39m\u001b[38;5;124mafunc\u001b[39m\u001b[38;5;124m\"\u001b[39m) \u001b[38;5;28;01melse\u001b[39;00m \u001b[38;5;28mself\u001b[39m\u001b[38;5;241m.\u001b[39mfunc\n\u001b[0;32m-> 3852\u001b[0m \u001b[38;5;28;01mreturn\u001b[39;00m \u001b[38;5;28;01mawait\u001b[39;00m \u001b[38;5;28mself\u001b[39m\u001b[38;5;241m.\u001b[39m_acall_with_config(\n\u001b[1;32m   3853\u001b[0m     \u001b[38;5;28mself\u001b[39m\u001b[38;5;241m.\u001b[39m_ainvoke,\n\u001b[1;32m   3854\u001b[0m     \u001b[38;5;28minput\u001b[39m,\n\u001b[1;32m   3855\u001b[0m     \u001b[38;5;28mself\u001b[39m\u001b[38;5;241m.\u001b[39m_config(config, the_func),\n\u001b[1;32m   3856\u001b[0m     \u001b[38;5;241m*\u001b[39m\u001b[38;5;241m*\u001b[39mkwargs,\n\u001b[1;32m   3857\u001b[0m )\n",
      "File \u001b[0;32m~/.pyenv/versions/3.11.8/envs/yumi-py3.11.8/lib/python3.11/site-packages/langchain_core/runnables/base.py:1542\u001b[0m, in \u001b[0;36mRunnable._acall_with_config\u001b[0;34m(self, func, input, config, run_type, **kwargs)\u001b[0m\n\u001b[1;32m   1538\u001b[0m coro \u001b[38;5;241m=\u001b[39m acall_func_with_variable_args(\n\u001b[1;32m   1539\u001b[0m     func, \u001b[38;5;28minput\u001b[39m, config, run_manager, \u001b[38;5;241m*\u001b[39m\u001b[38;5;241m*\u001b[39mkwargs\n\u001b[1;32m   1540\u001b[0m )\n\u001b[1;32m   1541\u001b[0m \u001b[38;5;28;01mif\u001b[39;00m accepts_context(asyncio\u001b[38;5;241m.\u001b[39mcreate_task):\n\u001b[0;32m-> 1542\u001b[0m     output: Output \u001b[38;5;241m=\u001b[39m \u001b[38;5;28;01mawait\u001b[39;00m asyncio\u001b[38;5;241m.\u001b[39mcreate_task(coro, context\u001b[38;5;241m=\u001b[39mcontext)  \u001b[38;5;66;03m# type: ignore\u001b[39;00m\n\u001b[1;32m   1543\u001b[0m \u001b[38;5;28;01melse\u001b[39;00m:\n\u001b[1;32m   1544\u001b[0m     output \u001b[38;5;241m=\u001b[39m \u001b[38;5;28;01mawait\u001b[39;00m coro\n",
      "File \u001b[0;32m~/.pyenv/versions/3.11.8/envs/yumi-py3.11.8/lib/python3.11/site-packages/langchain_core/runnables/base.py:3799\u001b[0m, in \u001b[0;36mRunnableLambda._ainvoke\u001b[0;34m(self, input, run_manager, config, **kwargs)\u001b[0m\n\u001b[1;32m   3797\u001b[0m                 output \u001b[38;5;241m=\u001b[39m chunk\n\u001b[1;32m   3798\u001b[0m \u001b[38;5;28;01melse\u001b[39;00m:\n\u001b[0;32m-> 3799\u001b[0m     output \u001b[38;5;241m=\u001b[39m \u001b[38;5;28;01mawait\u001b[39;00m \u001b[43macall_func_with_variable_args\u001b[49m\u001b[43m(\u001b[49m\n\u001b[1;32m   3800\u001b[0m \u001b[43m        \u001b[49m\u001b[43mcast\u001b[49m\u001b[43m(\u001b[49m\u001b[43mCallable\u001b[49m\u001b[43m,\u001b[49m\u001b[43m \u001b[49m\u001b[43mafunc\u001b[49m\u001b[43m)\u001b[49m\u001b[43m,\u001b[49m\u001b[43m \u001b[49m\u001b[38;5;28;43minput\u001b[39;49m\u001b[43m,\u001b[49m\u001b[43m \u001b[49m\u001b[43mconfig\u001b[49m\u001b[43m,\u001b[49m\u001b[43m \u001b[49m\u001b[43mrun_manager\u001b[49m\u001b[43m,\u001b[49m\u001b[43m \u001b[49m\u001b[38;5;241;43m*\u001b[39;49m\u001b[38;5;241;43m*\u001b[39;49m\u001b[43mkwargs\u001b[49m\n\u001b[1;32m   3801\u001b[0m \u001b[43m    \u001b[49m\u001b[43m)\u001b[49m\n\u001b[1;32m   3802\u001b[0m \u001b[38;5;66;03m# If the output is a runnable, invoke it\u001b[39;00m\n\u001b[1;32m   3803\u001b[0m \u001b[38;5;28;01mif\u001b[39;00m \u001b[38;5;28misinstance\u001b[39m(output, Runnable):\n",
      "File \u001b[0;32m~/.pyenv/versions/3.11.8/envs/yumi-py3.11.8/lib/python3.11/site-packages/langchain_core/runnables/config.py:388\u001b[0m, in \u001b[0;36macall_func_with_variable_args\u001b[0;34m(func, input, config, run_manager, **kwargs)\u001b[0m\n\u001b[1;32m    386\u001b[0m \u001b[38;5;28;01mif\u001b[39;00m run_manager \u001b[38;5;129;01mis\u001b[39;00m \u001b[38;5;129;01mnot\u001b[39;00m \u001b[38;5;28;01mNone\u001b[39;00m \u001b[38;5;129;01mand\u001b[39;00m accepts_run_manager(func):\n\u001b[1;32m    387\u001b[0m     kwargs[\u001b[38;5;124m\"\u001b[39m\u001b[38;5;124mrun_manager\u001b[39m\u001b[38;5;124m\"\u001b[39m] \u001b[38;5;241m=\u001b[39m run_manager\n\u001b[0;32m--> 388\u001b[0m \u001b[38;5;28;01mreturn\u001b[39;00m \u001b[43mfunc\u001b[49m\u001b[43m(\u001b[49m\u001b[38;5;28;43minput\u001b[39;49m\u001b[43m,\u001b[49m\u001b[43m \u001b[49m\u001b[38;5;241;43m*\u001b[39;49m\u001b[38;5;241;43m*\u001b[39;49m\u001b[43mkwargs\u001b[49m\u001b[43m)\u001b[49m\n",
      "\u001b[0;31mTypeError\u001b[0m: summarize_memory() missing 1 required positional argument: 'session_id'"
     ]
    }
   ],
   "source": [
    "encoding = tiktoken.get_encoding(\"cl100k_base\")\n",
    "\n",
    "\n",
    "async def summarize_memory(memory_store, session_id: str):\n",
    "    count = []\n",
    "    if not len(memory_store[session_id]) > 0:\n",
    "        return\n",
    "    stored_session = memory_store[\"def234\"].messages\n",
    "    for message in stored_session:\n",
    "        token_count = len(encoding.encode(message.content))\n",
    "        count.append(token_count)\n",
    "    total_tokens = sum(count)\n",
    "    if len(total_tokens) < 100:\n",
    "        print(\"Less than 100 tokens\")\n",
    "        return\n",
    "    else:\n",
    "        summarization_prompt = ChatPromptTemplate.from_messages(\n",
    "            [\n",
    "                MessagesPlaceholder(variable_name=\"history\"),\n",
    "                (\n",
    "                    \"user\",\n",
    "                    \"Distill the above chat messages into a single summary message. Include as many specific details as you can.\",\n",
    "                ),\n",
    "            ]\n",
    "        )\n",
    "        summarization_chain = summarization_prompt | openai_llm\n",
    "        summary_message = await summarization_chain.ainvoke({\"history\": stored_session})\n",
    "        stored_session.clear()\n",
    "        stored_session.add_messages(summary_message)\n",
    "        return"
   ]
  },
  {
   "cell_type": "code",
   "execution_count": null,
   "metadata": {},
   "outputs": [],
   "source": [
    "chain = (\n",
    "    RunnablePassthrough.assign(messages_summarized=summarize_memory)\n",
    "    | with_message_history\n",
    ")\n",
    "await chain.ainvoke(\n",
    "    {\"query\": \"Who is Alis?\"}, config={\"configurable\": {\"session_id\": \"def234\"}}\n",
    ")"
   ]
  },
  {
   "cell_type": "code",
   "execution_count": null,
   "metadata": {},
   "outputs": [
    {
     "data": {
      "text/plain": [
       "RunnableAssign(mapper={\n",
       "  messages_summarized: RunnableLambda(afunc=summarize_memory)\n",
       "})\n",
       "| RunnableWithMessageHistory(bound=RunnableBinding(bound=RunnableBinding(bound=RunnableAssign(mapper={\n",
       "    history: RunnableBinding(bound=RunnableLambda(_enter_history), config={'run_name': 'load_history'})\n",
       "  }), config={'run_name': 'insert_history'})\n",
       "  | RunnableBinding(bound=ChatPromptTemplate(input_variables=['context', 'history', 'query'], input_types={'history': typing.List[typing.Union[langchain_core.messages.ai.AIMessage, langchain_core.messages.human.HumanMessage, langchain_core.messages.chat.ChatMessage, langchain_core.messages.system.SystemMessage, langchain_core.messages.function.FunctionMessage, langchain_core.messages.tool.ToolMessage]]}, messages=[SystemMessagePromptTemplate(prompt=PromptTemplate(input_variables=[], template='You are a helpful and friendly chatbot with peronality name Yumi.\\nYour responses MUST be 2000 or fewer characters in length.\\n')), MessagesPlaceholder(variable_name='history'), HumanMessagePromptTemplate(prompt=PromptTemplate(input_variables=['context', 'query'], template=\"         Use the following pieces of retrieved context to answer the question.\\n         If you don't know the answer, just say that you don't know. Use three\\n         sentences maximum and keep the answer concise.\\n         Question: {query}\\n         Context: {context}\\n         \"))])\n",
       "    | ChatOpenAI(client=<openai.resources.chat.completions.Completions object at 0x132fb8090>, async_client=<openai.resources.chat.completions.AsyncCompletions object at 0x131524550>, model_name='gpt-4o', openai_api_key=SecretStr('**********'), openai_proxy='')\n",
       "    | StrOutputParser(), config_factories=[<function Runnable.with_listeners.<locals>.<lambda> at 0x132fafce0>]), config={'run_name': 'RunnableWithMessageHistory'}), get_session_history=<function get_session_history at 0x132fc8180>, input_messages_key='query', history_messages_key='history', history_factory_config=[ConfigurableFieldSpec(id='session_id', annotation=<class 'str'>, name='Session ID', description='Unique identifier for a session.', default='', is_shared=True, dependencies=None)])"
      ]
     },
     "execution_count": 47,
     "metadata": {},
     "output_type": "execute_result"
    }
   ],
   "source": [
    "chain"
   ]
  }
 ],
 "metadata": {
  "kernelspec": {
   "display_name": "yumi-py3.11.8",
   "language": "python",
   "name": "python3"
  },
  "language_info": {
   "codemirror_mode": {
    "name": "ipython",
    "version": 3
   },
   "file_extension": ".py",
   "mimetype": "text/x-python",
   "name": "python",
   "nbconvert_exporter": "python",
   "pygments_lexer": "ipython3",
   "version": "3.11.8"
  }
 },
 "nbformat": 4,
 "nbformat_minor": 2
}
